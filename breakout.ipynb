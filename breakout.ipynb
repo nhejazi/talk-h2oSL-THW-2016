{
 "cells": [
  {
   "cell_type": "markdown",
   "metadata": {},
   "source": [
    "# _Ensemble Learning with Super Learner and H2O in R_\n",
    "## Nima Hejazi and Evan Muzzall\n",
    "## [The Hacker Within](http://www.thehackerwithin.org/berkeley/), 6 December 2016"
   ]
  },
  {
   "cell_type": "code",
   "execution_count": 1,
   "metadata": {
    "collapsed": false
   },
   "outputs": [
    {
     "data": {
      "text/html": [
       "<table>\n",
       "<thead><tr><th scope=col>pregnant</th><th scope=col>glucose</th><th scope=col>pressure</th><th scope=col>triceps</th><th scope=col>insulin</th><th scope=col>mass</th><th scope=col>pedigree</th><th scope=col>age</th><th scope=col>diabetes</th></tr></thead>\n",
       "<tbody>\n",
       "\t<tr><td>6    </td><td>148  </td><td>72   </td><td>35   </td><td>  0  </td><td>33.6 </td><td>0.627</td><td>50   </td><td>pos  </td></tr>\n",
       "\t<tr><td>1    </td><td> 85  </td><td>66   </td><td>29   </td><td>  0  </td><td>26.6 </td><td>0.351</td><td>31   </td><td>neg  </td></tr>\n",
       "\t<tr><td>8    </td><td>183  </td><td>64   </td><td> 0   </td><td>  0  </td><td>23.3 </td><td>0.672</td><td>32   </td><td>pos  </td></tr>\n",
       "\t<tr><td>1    </td><td> 89  </td><td>66   </td><td>23   </td><td> 94  </td><td>28.1 </td><td>0.167</td><td>21   </td><td>neg  </td></tr>\n",
       "\t<tr><td>0    </td><td>137  </td><td>40   </td><td>35   </td><td>168  </td><td>43.1 </td><td>2.288</td><td>33   </td><td>pos  </td></tr>\n",
       "\t<tr><td>5    </td><td>116  </td><td>74   </td><td> 0   </td><td>  0  </td><td>25.6 </td><td>0.201</td><td>30   </td><td>neg  </td></tr>\n",
       "</tbody>\n",
       "</table>\n"
      ],
      "text/latex": [
       "\\begin{tabular}{r|lllllllll}\n",
       " pregnant & glucose & pressure & triceps & insulin & mass & pedigree & age & diabetes\\\\\n",
       "\\hline\n",
       "\t 6     & 148   & 72    & 35    &   0   & 33.6  & 0.627 & 50    & pos  \\\\\n",
       "\t 1     &  85   & 66    & 29    &   0   & 26.6  & 0.351 & 31    & neg  \\\\\n",
       "\t 8     & 183   & 64    &  0    &   0   & 23.3  & 0.672 & 32    & pos  \\\\\n",
       "\t 1     &  89   & 66    & 23    &  94   & 28.1  & 0.167 & 21    & neg  \\\\\n",
       "\t 0     & 137   & 40    & 35    & 168   & 43.1  & 2.288 & 33    & pos  \\\\\n",
       "\t 5     & 116   & 74    &  0    &   0   & 25.6  & 0.201 & 30    & neg  \\\\\n",
       "\\end{tabular}\n"
      ],
      "text/plain": [
       "  pregnant glucose pressure triceps insulin mass pedigree age diabetes\n",
       "1 6        148     72       35        0     33.6 0.627    50  pos     \n",
       "2 1         85     66       29        0     26.6 0.351    31  neg     \n",
       "3 8        183     64        0        0     23.3 0.672    32  pos     \n",
       "4 1         89     66       23       94     28.1 0.167    21  neg     \n",
       "5 0        137     40       35      168     43.1 2.288    33  pos     \n",
       "6 5        116     74        0        0     25.6 0.201    30  neg     "
      ]
     },
     "metadata": {},
     "output_type": "display_data"
    }
   ],
   "source": [
    "library(mlbench)\n",
    "data(PimaIndiansDiabetes)\n",
    "head(PimaIndiansDiabetes)"
   ]
  },
  {
   "cell_type": "code",
   "execution_count": null,
   "metadata": {
    "collapsed": true
   },
   "outputs": [],
   "source": []
  }
 ],
 "metadata": {
  "kernelspec": {
   "display_name": "R",
   "language": "R",
   "name": "ir"
  },
  "language_info": {
   "codemirror_mode": "r",
   "file_extension": ".r",
   "mimetype": "text/x-r-source",
   "name": "R",
   "pygments_lexer": "r",
   "version": "3.3.2"
  }
 },
 "nbformat": 4,
 "nbformat_minor": 0
}
