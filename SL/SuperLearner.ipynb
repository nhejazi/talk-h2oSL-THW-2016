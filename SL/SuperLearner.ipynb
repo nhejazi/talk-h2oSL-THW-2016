{
 "cells": [
  {
   "cell_type": "markdown",
   "metadata": {},
   "source": [
    "# _Ensemble Learning with Super Learner and H2O in R_\n",
    "## Nima Hejazi and Evan Muzzall\n",
    "## [The Hacker Within](http://www.thehackerwithin.org/berkeley/), 6 December 2016"
   ]
  },
  {
   "cell_type": "markdown",
   "metadata": {},
   "source": [
    "## Preliminaries\n",
    "\n",
    "* In this walkthrough, we will examine how to use the `SuperLearner` R package by looking at the `BreastCancer` data set from the R package `mlbench`.\n",
    "\n",
    "* For convenience, the `BreastCancer` dataset is also available in CSV format in the `data` subdirectory of this repo."
   ]
  },
  {
   "cell_type": "code",
   "execution_count": 1,
   "metadata": {
    "collapsed": false
   },
   "outputs": [
    {
     "data": {
      "text/html": [
       "<table>\n",
       "<thead><tr><th scope=col>Id</th><th scope=col>Cl.thickness</th><th scope=col>Cell.size</th><th scope=col>Cell.shape</th><th scope=col>Marg.adhesion</th><th scope=col>Epith.c.size</th><th scope=col>Bare.nuclei</th><th scope=col>Bl.cromatin</th><th scope=col>Normal.nucleoli</th><th scope=col>Mitoses</th><th scope=col>Class</th></tr></thead>\n",
       "<tbody>\n",
       "\t<tr><td>1000025  </td><td>5        </td><td>1        </td><td>1        </td><td>1        </td><td>2        </td><td>1        </td><td>3        </td><td>1        </td><td>1        </td><td>benign   </td></tr>\n",
       "\t<tr><td>1002945  </td><td>5        </td><td>4        </td><td>4        </td><td>5        </td><td>7        </td><td>10       </td><td>3        </td><td>2        </td><td>1        </td><td>benign   </td></tr>\n",
       "\t<tr><td>1015425  </td><td>3        </td><td>1        </td><td>1        </td><td>1        </td><td>2        </td><td>2        </td><td>3        </td><td>1        </td><td>1        </td><td>benign   </td></tr>\n",
       "\t<tr><td>1016277  </td><td>6        </td><td>8        </td><td>8        </td><td>1        </td><td>3        </td><td>4        </td><td>3        </td><td>7        </td><td>1        </td><td>benign   </td></tr>\n",
       "\t<tr><td>1017023  </td><td>4        </td><td>1        </td><td>1        </td><td>3        </td><td>2        </td><td>1        </td><td>3        </td><td>1        </td><td>1        </td><td>benign   </td></tr>\n",
       "\t<tr><td>1017122  </td><td>8        </td><td>10       </td><td>10       </td><td>8        </td><td>7        </td><td>10       </td><td>9        </td><td>7        </td><td>1        </td><td>malignant</td></tr>\n",
       "</tbody>\n",
       "</table>\n"
      ],
      "text/latex": [
       "\\begin{tabular}{r|lllllllllll}\n",
       " Id & Cl.thickness & Cell.size & Cell.shape & Marg.adhesion & Epith.c.size & Bare.nuclei & Bl.cromatin & Normal.nucleoli & Mitoses & Class\\\\\n",
       "\\hline\n",
       "\t 1000025   & 5         & 1         & 1         & 1         & 2         & 1         & 3         & 1         & 1         & benign   \\\\\n",
       "\t 1002945   & 5         & 4         & 4         & 5         & 7         & 10        & 3         & 2         & 1         & benign   \\\\\n",
       "\t 1015425   & 3         & 1         & 1         & 1         & 2         & 2         & 3         & 1         & 1         & benign   \\\\\n",
       "\t 1016277   & 6         & 8         & 8         & 1         & 3         & 4         & 3         & 7         & 1         & benign   \\\\\n",
       "\t 1017023   & 4         & 1         & 1         & 3         & 2         & 1         & 3         & 1         & 1         & benign   \\\\\n",
       "\t 1017122   & 8         & 10        & 10        & 8         & 7         & 10        & 9         & 7         & 1         & malignant\\\\\n",
       "\\end{tabular}\n"
      ],
      "text/markdown": [
       "\n",
       "Id | Cl.thickness | Cell.size | Cell.shape | Marg.adhesion | Epith.c.size | Bare.nuclei | Bl.cromatin | Normal.nucleoli | Mitoses | Class | \n",
       "|---|---|---|---|---|---|\n",
       "| 1000025   | 5         | 1         | 1         | 1         | 2         | 1         | 3         | 1         | 1         | benign    | \n",
       "| 1002945   | 5         | 4         | 4         | 5         | 7         | 10        | 3         | 2         | 1         | benign    | \n",
       "| 1015425   | 3         | 1         | 1         | 1         | 2         | 2         | 3         | 1         | 1         | benign    | \n",
       "| 1016277   | 6         | 8         | 8         | 1         | 3         | 4         | 3         | 7         | 1         | benign    | \n",
       "| 1017023   | 4         | 1         | 1         | 3         | 2         | 1         | 3         | 1         | 1         | benign    | \n",
       "| 1017122   | 8         | 10        | 10        | 8         | 7         | 10        | 9         | 7         | 1         | malignant | \n",
       "\n",
       "\n"
      ],
      "text/plain": [
       "  Id      Cl.thickness Cell.size Cell.shape Marg.adhesion Epith.c.size\n",
       "1 1000025 5            1         1          1             2           \n",
       "2 1002945 5            4         4          5             7           \n",
       "3 1015425 3            1         1          1             2           \n",
       "4 1016277 6            8         8          1             3           \n",
       "5 1017023 4            1         1          3             2           \n",
       "6 1017122 8            10        10         8             7           \n",
       "  Bare.nuclei Bl.cromatin Normal.nucleoli Mitoses Class    \n",
       "1 1           3           1               1       benign   \n",
       "2 10          3           2               1       benign   \n",
       "3 2           3           1               1       benign   \n",
       "4 4           3           7               1       benign   \n",
       "5 1           3           1               1       benign   \n",
       "6 10          9           7               1       malignant"
      ]
     },
     "metadata": {},
     "output_type": "display_data"
    },
    {
     "data": {
      "text/html": [
       "<ol class=list-inline>\n",
       "\t<li>699</li>\n",
       "\t<li>11</li>\n",
       "</ol>\n"
      ],
      "text/latex": [
       "\\begin{enumerate*}\n",
       "\\item 699\n",
       "\\item 11\n",
       "\\end{enumerate*}\n"
      ],
      "text/markdown": [
       "1. 699\n",
       "2. 11\n",
       "\n",
       "\n"
      ],
      "text/plain": [
       "[1] 699  11"
      ]
     },
     "metadata": {},
     "output_type": "display_data"
    }
   ],
   "source": [
    "set.seed(654123) # reproducibility matters\n",
    "\"%ni%\" = Negate(\"%in%\")\n",
    "\n",
    "# load some standard packages\n",
    "library(dplyr)\n",
    "library(ggplot2)\n",
    "library(mlbench)\n",
    "\n",
    "# load the data set\n",
    "data(BreastCancer)\n",
    "head(BreastCancer)\n",
    "dim(BreastCancer)"
   ]
  },
  {
   "cell_type": "markdown",
   "metadata": {},
   "source": [
    "## Data Cleaning"
   ]
  },
  {
   "cell_type": "markdown",
   "metadata": {},
   "source": [
    "* Firstly, we need to transform our data matrix so that it can be easily passed to `SuperLearner`.\n",
    "\n",
    "* We'll do this with the `dplyr` package, which we loaded in the above section."
   ]
  },
  {
   "cell_type": "code",
   "execution_count": 2,
   "metadata": {
    "collapsed": false
   },
   "outputs": [
    {
     "data": {
      "text/html": [
       "<dl class=dl-horizontal>\n",
       "\t<dt>Id</dt>\n",
       "\t\t<dd>0</dd>\n",
       "\t<dt>Cl.thickness</dt>\n",
       "\t\t<dd>0</dd>\n",
       "\t<dt>Cell.size</dt>\n",
       "\t\t<dd>0</dd>\n",
       "\t<dt>Cell.shape</dt>\n",
       "\t\t<dd>0</dd>\n",
       "\t<dt>Marg.adhesion</dt>\n",
       "\t\t<dd>0</dd>\n",
       "\t<dt>Epith.c.size</dt>\n",
       "\t\t<dd>0</dd>\n",
       "\t<dt>Bare.nuclei</dt>\n",
       "\t\t<dd>16</dd>\n",
       "\t<dt>Bl.cromatin</dt>\n",
       "\t\t<dd>0</dd>\n",
       "\t<dt>Normal.nucleoli</dt>\n",
       "\t\t<dd>0</dd>\n",
       "\t<dt>Mitoses</dt>\n",
       "\t\t<dd>0</dd>\n",
       "\t<dt>Class</dt>\n",
       "\t\t<dd>0</dd>\n",
       "</dl>\n"
      ],
      "text/latex": [
       "\\begin{description*}\n",
       "\\item[Id] 0\n",
       "\\item[Cl.thickness] 0\n",
       "\\item[Cell.size] 0\n",
       "\\item[Cell.shape] 0\n",
       "\\item[Marg.adhesion] 0\n",
       "\\item[Epith.c.size] 0\n",
       "\\item[Bare.nuclei] 16\n",
       "\\item[Bl.cromatin] 0\n",
       "\\item[Normal.nucleoli] 0\n",
       "\\item[Mitoses] 0\n",
       "\\item[Class] 0\n",
       "\\end{description*}\n"
      ],
      "text/markdown": [
       "Id\n",
       ":   0Cl.thickness\n",
       ":   0Cell.size\n",
       ":   0Cell.shape\n",
       ":   0Marg.adhesion\n",
       ":   0Epith.c.size\n",
       ":   0Bare.nuclei\n",
       ":   16Bl.cromatin\n",
       ":   0Normal.nucleoli\n",
       ":   0Mitoses\n",
       ":   0Class\n",
       ":   0\n",
       "\n"
      ],
      "text/plain": [
       "             Id    Cl.thickness       Cell.size      Cell.shape   Marg.adhesion \n",
       "              0               0               0               0               0 \n",
       "   Epith.c.size     Bare.nuclei     Bl.cromatin Normal.nucleoli         Mitoses \n",
       "              0              16               0               0               0 \n",
       "          Class \n",
       "              0 "
      ]
     },
     "metadata": {},
     "output_type": "display_data"
    }
   ],
   "source": [
    "# examine whether there are NAs in the data\n",
    "colSums(is.na(BreastCancer))"
   ]
  },
  {
   "cell_type": "markdown",
   "metadata": {},
   "source": [
    "* `SuperLearner` __does not work with missing data__, so we will have to remove incomplete observations.\n",
    "\n",
    "* There are ways to handle missing data via imputation with `SuperLearner`, but those are outside the scope of this tutorial. Feel free to ask us after this workshop if you're interested in this."
   ]
  },
  {
   "cell_type": "code",
   "execution_count": 3,
   "metadata": {
    "collapsed": false
   },
   "outputs": [
    {
     "data": {
      "text/html": [
       "<dl class=dl-horizontal>\n",
       "\t<dt>Id</dt>\n",
       "\t\t<dd>0</dd>\n",
       "\t<dt>Cl.thickness</dt>\n",
       "\t\t<dd>0</dd>\n",
       "\t<dt>Cell.size</dt>\n",
       "\t\t<dd>0</dd>\n",
       "\t<dt>Cell.shape</dt>\n",
       "\t\t<dd>0</dd>\n",
       "\t<dt>Marg.adhesion</dt>\n",
       "\t\t<dd>0</dd>\n",
       "\t<dt>Epith.c.size</dt>\n",
       "\t\t<dd>0</dd>\n",
       "\t<dt>Bare.nuclei</dt>\n",
       "\t\t<dd>0</dd>\n",
       "\t<dt>Bl.cromatin</dt>\n",
       "\t\t<dd>0</dd>\n",
       "\t<dt>Normal.nucleoli</dt>\n",
       "\t\t<dd>0</dd>\n",
       "\t<dt>Mitoses</dt>\n",
       "\t\t<dd>0</dd>\n",
       "\t<dt>Class</dt>\n",
       "\t\t<dd>0</dd>\n",
       "</dl>\n"
      ],
      "text/latex": [
       "\\begin{description*}\n",
       "\\item[Id] 0\n",
       "\\item[Cl.thickness] 0\n",
       "\\item[Cell.size] 0\n",
       "\\item[Cell.shape] 0\n",
       "\\item[Marg.adhesion] 0\n",
       "\\item[Epith.c.size] 0\n",
       "\\item[Bare.nuclei] 0\n",
       "\\item[Bl.cromatin] 0\n",
       "\\item[Normal.nucleoli] 0\n",
       "\\item[Mitoses] 0\n",
       "\\item[Class] 0\n",
       "\\end{description*}\n"
      ],
      "text/markdown": [
       "Id\n",
       ":   0Cl.thickness\n",
       ":   0Cell.size\n",
       ":   0Cell.shape\n",
       ":   0Marg.adhesion\n",
       ":   0Epith.c.size\n",
       ":   0Bare.nuclei\n",
       ":   0Bl.cromatin\n",
       ":   0Normal.nucleoli\n",
       ":   0Mitoses\n",
       ":   0Class\n",
       ":   0\n",
       "\n"
      ],
      "text/plain": [
       "             Id    Cl.thickness       Cell.size      Cell.shape   Marg.adhesion \n",
       "              0               0               0               0               0 \n",
       "   Epith.c.size     Bare.nuclei     Bl.cromatin Normal.nucleoli         Mitoses \n",
       "              0               0               0               0               0 \n",
       "          Class \n",
       "              0 "
      ]
     },
     "metadata": {},
     "output_type": "display_data"
    }
   ],
   "source": [
    "# remove the NAs before proceeding with Super Learner\n",
    "bc <- BreastCancer %>%\n",
    " dplyr::filter(complete.cases(.))\n",
    "colSums(is.na(bc))"
   ]
  },
  {
   "cell_type": "markdown",
   "metadata": {},
   "source": [
    "* Next, we'll need to remove the outcome column (\"Class\") and the metadata column (\"ID\") from the X matrix\n",
    "\n",
    "* Here, the X matrix is simply the observed values to be used in predicting the class outcome."
   ]
  },
  {
   "cell_type": "code",
   "execution_count": 4,
   "metadata": {
    "collapsed": false
   },
   "outputs": [
    {
     "data": {
      "text/html": [
       "<table>\n",
       "<thead><tr><th scope=col>Cl.thickness</th><th scope=col>Cell.size</th><th scope=col>Cell.shape</th><th scope=col>Marg.adhesion</th><th scope=col>Epith.c.size</th><th scope=col>Bare.nuclei</th><th scope=col>Bl.cromatin</th><th scope=col>Normal.nucleoli</th><th scope=col>Mitoses</th></tr></thead>\n",
       "<tbody>\n",
       "\t<tr><td>5 </td><td>1 </td><td>1 </td><td>1 </td><td>2 </td><td>1 </td><td>3 </td><td>1 </td><td>1 </td></tr>\n",
       "\t<tr><td>5 </td><td>4 </td><td>4 </td><td>5 </td><td>7 </td><td>10</td><td>3 </td><td>2 </td><td>1 </td></tr>\n",
       "\t<tr><td>3 </td><td>1 </td><td>1 </td><td>1 </td><td>2 </td><td>2 </td><td>3 </td><td>1 </td><td>1 </td></tr>\n",
       "\t<tr><td>6 </td><td>8 </td><td>8 </td><td>1 </td><td>3 </td><td>4 </td><td>3 </td><td>7 </td><td>1 </td></tr>\n",
       "\t<tr><td>4 </td><td>1 </td><td>1 </td><td>3 </td><td>2 </td><td>1 </td><td>3 </td><td>1 </td><td>1 </td></tr>\n",
       "\t<tr><td>8 </td><td>10</td><td>10</td><td>8 </td><td>7 </td><td>10</td><td>9 </td><td>7 </td><td>1 </td></tr>\n",
       "</tbody>\n",
       "</table>\n"
      ],
      "text/latex": [
       "\\begin{tabular}{r|lllllllll}\n",
       " Cl.thickness & Cell.size & Cell.shape & Marg.adhesion & Epith.c.size & Bare.nuclei & Bl.cromatin & Normal.nucleoli & Mitoses\\\\\n",
       "\\hline\n",
       "\t 5  & 1  & 1  & 1  & 2  & 1  & 3  & 1  & 1 \\\\\n",
       "\t 5  & 4  & 4  & 5  & 7  & 10 & 3  & 2  & 1 \\\\\n",
       "\t 3  & 1  & 1  & 1  & 2  & 2  & 3  & 1  & 1 \\\\\n",
       "\t 6  & 8  & 8  & 1  & 3  & 4  & 3  & 7  & 1 \\\\\n",
       "\t 4  & 1  & 1  & 3  & 2  & 1  & 3  & 1  & 1 \\\\\n",
       "\t 8  & 10 & 10 & 8  & 7  & 10 & 9  & 7  & 1 \\\\\n",
       "\\end{tabular}\n"
      ],
      "text/markdown": [
       "\n",
       "Cl.thickness | Cell.size | Cell.shape | Marg.adhesion | Epith.c.size | Bare.nuclei | Bl.cromatin | Normal.nucleoli | Mitoses | \n",
       "|---|---|---|---|---|---|\n",
       "| 5  | 1  | 1  | 1  | 2  | 1  | 3  | 1  | 1  | \n",
       "| 5  | 4  | 4  | 5  | 7  | 10 | 3  | 2  | 1  | \n",
       "| 3  | 1  | 1  | 1  | 2  | 2  | 3  | 1  | 1  | \n",
       "| 6  | 8  | 8  | 1  | 3  | 4  | 3  | 7  | 1  | \n",
       "| 4  | 1  | 1  | 3  | 2  | 1  | 3  | 1  | 1  | \n",
       "| 8  | 10 | 10 | 8  | 7  | 10 | 9  | 7  | 1  | \n",
       "\n",
       "\n"
      ],
      "text/plain": [
       "  Cl.thickness Cell.size Cell.shape Marg.adhesion Epith.c.size Bare.nuclei\n",
       "1 5            1         1          1             2            1          \n",
       "2 5            4         4          5             7            10         \n",
       "3 3            1         1          1             2            2          \n",
       "4 6            8         8          1             3            4          \n",
       "5 4            1         1          3             2            1          \n",
       "6 8            10        10         8             7            10         \n",
       "  Bl.cromatin Normal.nucleoli Mitoses\n",
       "1 3           1               1      \n",
       "2 3           2               1      \n",
       "3 3           1               1      \n",
       "4 3           7               1      \n",
       "5 3           1               1      \n",
       "6 9           7               1      "
      ]
     },
     "metadata": {},
     "output_type": "display_data"
    }
   ],
   "source": [
    "# create a data.frame of covariates to be used in prediction\n",
    "X <- bc %>%\n",
    " dplyr::select(which(colnames(.) %ni% c(\"Id\", \"Class\")))\n",
    "head(X)"
   ]
  },
  {
   "cell_type": "markdown",
   "metadata": {},
   "source": [
    "* We simply strip all columns other than the \"Class\" to create the outcome vector.\n",
    "\n",
    "* The vector of outcomes __must be of class `numeric`__ for `SuperLearner` to work properly."
   ]
  },
  {
   "cell_type": "code",
   "execution_count": 5,
   "metadata": {
    "collapsed": false
   },
   "outputs": [
    {
     "data": {
      "text/html": [
       "<ol class=list-inline>\n",
       "\t<li>0</li>\n",
       "\t<li>1</li>\n",
       "</ol>\n"
      ],
      "text/latex": [
       "\\begin{enumerate*}\n",
       "\\item 0\n",
       "\\item 1\n",
       "\\end{enumerate*}\n"
      ],
      "text/markdown": [
       "1. 0\n",
       "2. 1\n",
       "\n",
       "\n"
      ],
      "text/plain": [
       "[1] 0 1"
      ]
     },
     "metadata": {},
     "output_type": "display_data"
    }
   ],
   "source": [
    "# create a numeric vector of the binary outcomes.\n",
    "Y <- bc %>%\n",
    " dplyr::select(which(colnames(.) %in% c(\"Class\")))\n",
    "Y <- as.vector(ifelse(Y == \"benign\", 0, 1))\n",
    "unique(Y)"
   ]
  },
  {
   "cell_type": "markdown",
   "metadata": {},
   "source": [
    "## The Super Learner Algorithm\n",
    "\n",
    "* __R package:__ `SuperLearner`\n",
    "* Main functions: `SuperLearner`, `CV.SuperLearner`\n",
    "\n",
    "To start, we will load the `SuperLearner` package and set up a library of learning algorithms that `SuperLearner` will combine into a single ensemble learner.\n",
    "\n",
    "For the purposes of this walkthrough, we'll keep the library of learning algorithms limited. Note that in practical cases, the number of learning algorithms should vary with the number of observations, and the bigger your library, the better you will capture the optimal relationship."
   ]
  },
  {
   "cell_type": "code",
   "execution_count": 6,
   "metadata": {
    "collapsed": false
   },
   "outputs": [
    {
     "name": "stderr",
     "output_type": "stream",
     "text": [
      "Loading required package: nnls\n",
      "Super Learner\n",
      "Version: 2.0-21\n",
      "Package created on 2016-11-11\n",
      "\n"
     ]
    }
   ],
   "source": [
    "library(SuperLearner)\n",
    "\n",
    "?SuperLearner\n",
    "\n",
    "SL_library <- c(\"SL.gbm\", \"SL.glm\", \"SL.glmnet\", \"SL.knn\", \"SL.nnet\", \"SL.randomForest\")"
   ]
  },
  {
   "cell_type": "code",
   "execution_count": 7,
   "metadata": {
    "collapsed": false
   },
   "outputs": [
    {
     "name": "stderr",
     "output_type": "stream",
     "text": [
      "Loading required package: gbm\n",
      "Loading required package: survival\n",
      "Loading required package: lattice\n",
      "Loading required package: splines\n",
      "Loading required package: parallel\n",
      "Loaded gbm 2.1.1\n",
      "Loading required package: glmnet\n",
      "Loading required package: Matrix\n",
      "Loading required package: foreach\n",
      "Loaded glmnet 2.0-5\n",
      "\n",
      "Loading required package: class\n",
      "Loading required package: nnet\n",
      "Loading required package: randomForest\n",
      "randomForest 4.6-12\n",
      "Type rfNews() to see new features/changes/bug fixes.\n",
      "\n",
      "Attaching package: ‘randomForest’\n",
      "\n",
      "The following object is masked from ‘package:dplyr’:\n",
      "\n",
      "    combine\n",
      "\n",
      "The following object is masked from ‘package:ggplot2’:\n",
      "\n",
      "    margin\n",
      "\n",
      "Warning message:\n",
      "“glm.fit: algorithm did not converge”Warning message:\n",
      "“glm.fit: fitted probabilities numerically 0 or 1 occurred”Warning message:\n",
      "“glm.fit: algorithm did not converge”Warning message:\n",
      "“glm.fit: fitted probabilities numerically 0 or 1 occurred”Warning message:\n",
      "“glm.fit: algorithm did not converge”Warning message:\n",
      "“glm.fit: fitted probabilities numerically 0 or 1 occurred”Warning message:\n",
      "“glm.fit: algorithm did not converge”Warning message:\n",
      "“glm.fit: fitted probabilities numerically 0 or 1 occurred”Warning message:\n",
      "“glm.fit: algorithm did not converge”Warning message:\n",
      "“glm.fit: fitted probabilities numerically 0 or 1 occurred”Warning message:\n",
      "“glm.fit: algorithm did not converge”Warning message:\n",
      "“glm.fit: fitted probabilities numerically 0 or 1 occurred”Warning message:\n",
      "“glm.fit: algorithm did not converge”Warning message:\n",
      "“glm.fit: fitted probabilities numerically 0 or 1 occurred”Warning message:\n",
      "“glm.fit: algorithm did not converge”Warning message:\n",
      "“glm.fit: fitted probabilities numerically 0 or 1 occurred”Warning message:\n",
      "“glm.fit: algorithm did not converge”Warning message:\n",
      "“glm.fit: fitted probabilities numerically 0 or 1 occurred”Warning message:\n",
      "“glm.fit: algorithm did not converge”Warning message:\n",
      "“glm.fit: fitted probabilities numerically 0 or 1 occurred”Warning message:\n",
      "“glm.fit: algorithm did not converge”Warning message:\n",
      "“glm.fit: fitted probabilities numerically 0 or 1 occurred”"
     ]
    }
   ],
   "source": [
    "SL_fit <- SuperLearner(X = X,\n",
    "                       Y = Y,\n",
    "                       family = binomial(),\n",
    "                       SL.library = SL_library,\n",
    "                       verbose = FALSE\n",
    "                      )"
   ]
  },
  {
   "cell_type": "code",
   "execution_count": 8,
   "metadata": {
    "collapsed": false
   },
   "outputs": [
    {
     "data": {
      "text/html": [
       "<dl class=dl-horizontal>\n",
       "\t<dt>SL.gbm_All</dt>\n",
       "\t\t<dd>0.0580497403280504</dd>\n",
       "\t<dt>SL.glm_All</dt>\n",
       "\t\t<dd>0.030577981798267</dd>\n",
       "\t<dt>SL.glmnet_All</dt>\n",
       "\t\t<dd>0</dd>\n",
       "\t<dt>SL.knn_All</dt>\n",
       "\t\t<dd>0.691537543264149</dd>\n",
       "\t<dt>SL.nnet_All</dt>\n",
       "\t\t<dd>0</dd>\n",
       "\t<dt>SL.randomForest_All</dt>\n",
       "\t\t<dd>0.219834734609533</dd>\n",
       "</dl>\n"
      ],
      "text/latex": [
       "\\begin{description*}\n",
       "\\item[SL.gbm\\textbackslash{}\\_All] 0.0580497403280504\n",
       "\\item[SL.glm\\textbackslash{}\\_All] 0.030577981798267\n",
       "\\item[SL.glmnet\\textbackslash{}\\_All] 0\n",
       "\\item[SL.knn\\textbackslash{}\\_All] 0.691537543264149\n",
       "\\item[SL.nnet\\textbackslash{}\\_All] 0\n",
       "\\item[SL.randomForest\\textbackslash{}\\_All] 0.219834734609533\n",
       "\\end{description*}\n"
      ],
      "text/markdown": [
       "SL.gbm_All\n",
       ":   0.0580497403280504SL.glm_All\n",
       ":   0.030577981798267SL.glmnet_All\n",
       ":   0SL.knn_All\n",
       ":   0.691537543264149SL.nnet_All\n",
       ":   0SL.randomForest_All\n",
       ":   0.219834734609533\n",
       "\n"
      ],
      "text/plain": [
       "         SL.gbm_All          SL.glm_All       SL.glmnet_All          SL.knn_All \n",
       "         0.05804974          0.03057798          0.00000000          0.69153754 \n",
       "        SL.nnet_All SL.randomForest_All \n",
       "         0.00000000          0.21983473 "
      ]
     },
     "metadata": {},
     "output_type": "display_data"
    }
   ],
   "source": [
    "SL_fit$coef"
   ]
  },
  {
   "cell_type": "markdown",
   "metadata": {},
   "source": [
    "## The Cross-Validated Super Learner"
   ]
  },
  {
   "cell_type": "markdown",
   "metadata": {},
   "source": [
    "* \"Function to get V-fold cross-validated risk estimate for super learner. This \n",
    "function simply splits the data into V folds and then calls `SuperLearner`.\"\n",
    "\n",
    "* Why would we want to cross-validate the ensembling process used by Super Learner?\n",
    "  * The `SuperLearner` function builds an estimator, but does not contain an \n",
    "    estimate of the performance of that estimator.\n",
    "  * The authros recommend using cross-validation to evaluate the honest\n",
    "    performance of the super learner estimator.\n",
    "\n",
    "* The function `CV.SuperLearner` computes the usual V-fold cross-validated risk \n",
    "estimate for the super learner (as well as that for each algorithm in the\n",
    "specified library for comparison)."
   ]
  },
  {
   "cell_type": "code",
   "execution_count": 9,
   "metadata": {
    "collapsed": false
   },
   "outputs": [
    {
     "name": "stderr",
     "output_type": "stream",
     "text": [
      "Loading required package: ROCR\n",
      "Loading required package: gplots\n",
      "\n",
      "Attaching package: ‘gplots’\n",
      "\n",
      "The following object is masked from ‘package:stats’:\n",
      "\n",
      "    lowess\n",
      "\n",
      " \n",
      "cvAUC version: 1.1.0\n",
      "Notice to cvAUC users: Major speed improvements in version 1.1.0\n",
      " \n"
     ]
    }
   ],
   "source": [
    "library(cvAUC)\n",
    "\n",
    "?CV.SuperLearner"
   ]
  },
  {
   "cell_type": "code",
   "execution_count": 10,
   "metadata": {
    "collapsed": false
   },
   "outputs": [
    {
     "name": "stderr",
     "output_type": "stream",
     "text": [
      "Warning message:\n",
      "“glm.fit: algorithm did not converge”Warning message:\n",
      "“glm.fit: fitted probabilities numerically 0 or 1 occurred”Warning message:\n",
      "“glm.fit: algorithm did not converge”Warning message:\n",
      "“glm.fit: fitted probabilities numerically 0 or 1 occurred”Warning message:\n",
      "“glm.fit: algorithm did not converge”Warning message:\n",
      "“glm.fit: fitted probabilities numerically 0 or 1 occurred”Warning message:\n",
      "“glm.fit: algorithm did not converge”Warning message:\n",
      "“glm.fit: fitted probabilities numerically 0 or 1 occurred”Warning message:\n",
      "“glm.fit: algorithm did not converge”Warning message:\n",
      "“glm.fit: fitted probabilities numerically 0 or 1 occurred”Warning message:\n",
      "“glm.fit: algorithm did not converge”Warning message:\n",
      "“glm.fit: fitted probabilities numerically 0 or 1 occurred”Warning message:\n",
      "“glm.fit: algorithm did not converge”Warning message:\n",
      "“glm.fit: fitted probabilities numerically 0 or 1 occurred”Warning message:\n",
      "“glm.fit: algorithm did not converge”Warning message:\n",
      "“glm.fit: fitted probabilities numerically 0 or 1 occurred”Warning message:\n",
      "“glm.fit: algorithm did not converge”Warning message:\n",
      "“glm.fit: fitted probabilities numerically 0 or 1 occurred”Warning message:\n",
      "“glm.fit: algorithm did not converge”Warning message:\n",
      "“glm.fit: fitted probabilities numerically 0 or 1 occurred”Warning message:\n",
      "“glm.fit: algorithm did not converge”Warning message:\n",
      "“glm.fit: fitted probabilities numerically 0 or 1 occurred”Warning message:\n",
      "“glm.fit: algorithm did not converge”Warning message:\n",
      "“glm.fit: fitted probabilities numerically 0 or 1 occurred”Warning message:\n",
      "“glm.fit: algorithm did not converge”Warning message:\n",
      "“glm.fit: fitted probabilities numerically 0 or 1 occurred”Warning message:\n",
      "“glm.fit: algorithm did not converge”Warning message:\n",
      "“glm.fit: fitted probabilities numerically 0 or 1 occurred”Warning message:\n",
      "“glm.fit: algorithm did not converge”Warning message:\n",
      "“glm.fit: fitted probabilities numerically 0 or 1 occurred”Warning message:\n",
      "“glm.fit: algorithm did not converge”Warning message:\n",
      "“glm.fit: fitted probabilities numerically 0 or 1 occurred”Warning message:\n",
      "“glm.fit: algorithm did not converge”Warning message:\n",
      "“glm.fit: fitted probabilities numerically 0 or 1 occurred”Warning message:\n",
      "“glm.fit: algorithm did not converge”Warning message:\n",
      "“glm.fit: fitted probabilities numerically 0 or 1 occurred”Warning message:\n",
      "“glm.fit: algorithm did not converge”Warning message:\n",
      "“glm.fit: fitted probabilities numerically 0 or 1 occurred”Warning message:\n",
      "“glm.fit: algorithm did not converge”Warning message:\n",
      "“glm.fit: fitted probabilities numerically 0 or 1 occurred”Warning message:\n",
      "“glm.fit: algorithm did not converge”Warning message:\n",
      "“glm.fit: fitted probabilities numerically 0 or 1 occurred”Warning message in FUN(X[[i]], ...):\n",
      "“Error in algorithm SL.glm \n",
      "  The Algorithm will be removed from the Super Learner (i.e. given weight 0) \n",
      "”Warning message:\n",
      "“glm.fit: algorithm did not converge”Warning message:\n",
      "“glm.fit: fitted probabilities numerically 0 or 1 occurred”Warning message:\n",
      "“glm.fit: algorithm did not converge”Warning message:\n",
      "“glm.fit: fitted probabilities numerically 0 or 1 occurred”Warning message:\n",
      "“glm.fit: algorithm did not converge”Warning message:\n",
      "“glm.fit: fitted probabilities numerically 0 or 1 occurred”Warning message in FUN(X[[i]], ...):\n",
      "“Error in algorithm SL.glm \n",
      "  The Algorithm will be removed from the Super Learner (i.e. given weight 0) \n",
      "”Warning message:\n",
      "“glm.fit: algorithm did not converge”Warning message:\n",
      "“glm.fit: fitted probabilities numerically 0 or 1 occurred”Warning message:\n",
      "“glm.fit: algorithm did not converge”Warning message:\n",
      "“glm.fit: fitted probabilities numerically 0 or 1 occurred”Warning message:\n",
      "“glm.fit: algorithm did not converge”Warning message:\n",
      "“glm.fit: fitted probabilities numerically 0 or 1 occurred”Warning message:\n",
      "“glm.fit: algorithm did not converge”Warning message:\n",
      "“glm.fit: fitted probabilities numerically 0 or 1 occurred”Warning message:\n",
      "“glm.fit: algorithm did not converge”Warning message:\n",
      "“glm.fit: fitted probabilities numerically 0 or 1 occurred”Warning message:\n",
      "“glm.fit: algorithm did not converge”Warning message:\n",
      "“glm.fit: fitted probabilities numerically 0 or 1 occurred”Warning message:\n",
      "“glm.fit: algorithm did not converge”Warning message:\n",
      "“glm.fit: fitted probabilities numerically 0 or 1 occurred”Warning message:\n",
      "“glm.fit: algorithm did not converge”Warning message:\n",
      "“glm.fit: fitted probabilities numerically 0 or 1 occurred”Warning message:\n",
      "“glm.fit: algorithm did not converge”Warning message:\n",
      "“glm.fit: fitted probabilities numerically 0 or 1 occurred”Warning message:\n",
      "“glm.fit: algorithm did not converge”Warning message:\n",
      "“glm.fit: fitted probabilities numerically 0 or 1 occurred”Warning message:\n",
      "“glm.fit: algorithm did not converge”Warning message:\n",
      "“glm.fit: fitted probabilities numerically 0 or 1 occurred”Warning message:\n",
      "“glm.fit: algorithm did not converge”Warning message:\n",
      "“glm.fit: fitted probabilities numerically 0 or 1 occurred”Warning message:\n",
      "“glm.fit: algorithm did not converge”Warning message:\n",
      "“glm.fit: fitted probabilities numerically 0 or 1 occurred”Warning message in FUN(X[[i]], ...):\n",
      "“Error in algorithm SL.glm \n",
      "  The Algorithm will be removed from the Super Learner (i.e. given weight 0) \n",
      "”Warning message:\n",
      "“glm.fit: algorithm did not converge”Warning message:\n",
      "“glm.fit: fitted probabilities numerically 0 or 1 occurred”Warning message:\n",
      "“glm.fit: algorithm did not converge”Warning message:\n",
      "“glm.fit: fitted probabilities numerically 0 or 1 occurred”Warning message:\n",
      "“glm.fit: algorithm did not converge”Warning message:\n",
      "“glm.fit: fitted probabilities numerically 0 or 1 occurred”Warning message:\n",
      "“glm.fit: algorithm did not converge”Warning message:\n",
      "“glm.fit: fitted probabilities numerically 0 or 1 occurred”Warning message:\n",
      "“glm.fit: algorithm did not converge”Warning message:\n",
      "“glm.fit: fitted probabilities numerically 0 or 1 occurred”Warning message:\n",
      "“glm.fit: algorithm did not converge”Warning message:\n",
      "“glm.fit: fitted probabilities numerically 0 or 1 occurred”Warning message:\n",
      "“glm.fit: algorithm did not converge”Warning message:\n",
      "“glm.fit: fitted probabilities numerically 0 or 1 occurred”Warning message:\n",
      "“glm.fit: algorithm did not converge”Warning message:\n",
      "“glm.fit: fitted probabilities numerically 0 or 1 occurred”Warning message:\n",
      "“glm.fit: algorithm did not converge”Warning message:\n",
      "“glm.fit: fitted probabilities numerically 0 or 1 occurred”Warning message:\n",
      "“glm.fit: algorithm did not converge”Warning message:\n",
      "“glm.fit: fitted probabilities numerically 0 or 1 occurred”Warning message:\n",
      "“glm.fit: algorithm did not converge”Warning message:\n",
      "“glm.fit: fitted probabilities numerically 0 or 1 occurred”Warning message:\n",
      "“glm.fit: algorithm did not converge”Warning message:\n",
      "“glm.fit: fitted probabilities numerically 0 or 1 occurred”Warning message:\n",
      "“glm.fit: algorithm did not converge”Warning message:\n",
      "“glm.fit: fitted probabilities numerically 0 or 1 occurred”Warning message:\n",
      "“glm.fit: algorithm did not converge”Warning message:\n",
      "“glm.fit: fitted probabilities numerically 0 or 1 occurred”Warning message:\n",
      "“glm.fit: algorithm did not converge”Warning message:\n",
      "“glm.fit: fitted probabilities numerically 0 or 1 occurred”Warning message:\n",
      "“glm.fit: algorithm did not converge”Warning message:\n",
      "“glm.fit: fitted probabilities numerically 0 or 1 occurred”Warning message:\n",
      "“glm.fit: algorithm did not converge”Warning message:\n",
      "“glm.fit: fitted probabilities numerically 0 or 1 occurred”Warning message:\n",
      "“glm.fit: algorithm did not converge”Warning message:\n",
      "“glm.fit: fitted probabilities numerically 0 or 1 occurred”"
     ]
    }
   ],
   "source": [
    "V = 5 # we'll use few folds here to save time\n",
    "\n",
    "cv_SL_fit <- CV.SuperLearner(X = X,\n",
    "                             Y = Y,\n",
    "                             V = V,\n",
    "                             family = binomial(),\n",
    "                             SL.library = SL_library,\n",
    "                             verbose = FALSE\n",
    "                            )"
   ]
  },
  {
   "cell_type": "code",
   "execution_count": 11,
   "metadata": {
    "collapsed": false
   },
   "outputs": [
    {
     "data": {
      "text/html": [
       "<table>\n",
       "<thead><tr><th></th><th scope=col>SL.gbm_All</th><th scope=col>SL.glm_All</th><th scope=col>SL.glmnet_All</th><th scope=col>SL.knn_All</th><th scope=col>SL.nnet_All</th><th scope=col>SL.randomForest_All</th></tr></thead>\n",
       "<tbody>\n",
       "\t<tr><th scope=row>1</th><td>0.0000000  </td><td>0.00000000 </td><td>0.000000000</td><td>0.6579005  </td><td>0.07731546 </td><td>0.2647841  </td></tr>\n",
       "\t<tr><th scope=row>2</th><td>0.1967231  </td><td>0.00000000 </td><td>0.004739998</td><td>0.1755384  </td><td>0.03938415 </td><td>0.5836144  </td></tr>\n",
       "\t<tr><th scope=row>3</th><td>0.0000000  </td><td>0.00000000 </td><td>0.000000000</td><td>0.6580631  </td><td>0.00000000 </td><td>0.3419369  </td></tr>\n",
       "\t<tr><th scope=row>4</th><td>0.0000000  </td><td>0.00000000 </td><td>0.000000000</td><td>0.6719637  </td><td>0.05121414 </td><td>0.2768221  </td></tr>\n",
       "\t<tr><th scope=row>5</th><td>0.3582016  </td><td>0.00659032 </td><td>0.000000000</td><td>0.5168597  </td><td>0.00000000 </td><td>0.1183484  </td></tr>\n",
       "</tbody>\n",
       "</table>\n"
      ],
      "text/latex": [
       "\\begin{tabular}{r|llllll}\n",
       "  & SL.gbm\\_All & SL.glm\\_All & SL.glmnet\\_All & SL.knn\\_All & SL.nnet\\_All & SL.randomForest\\_All\\\\\n",
       "\\hline\n",
       "\t1 & 0.0000000   & 0.00000000  & 0.000000000 & 0.6579005   & 0.07731546  & 0.2647841  \\\\\n",
       "\t2 & 0.1967231   & 0.00000000  & 0.004739998 & 0.1755384   & 0.03938415  & 0.5836144  \\\\\n",
       "\t3 & 0.0000000   & 0.00000000  & 0.000000000 & 0.6580631   & 0.00000000  & 0.3419369  \\\\\n",
       "\t4 & 0.0000000   & 0.00000000  & 0.000000000 & 0.6719637   & 0.05121414  & 0.2768221  \\\\\n",
       "\t5 & 0.3582016   & 0.00659032  & 0.000000000 & 0.5168597   & 0.00000000  & 0.1183484  \\\\\n",
       "\\end{tabular}\n"
      ],
      "text/markdown": [
       "\n",
       "| <!--/--> | SL.gbm_All | SL.glm_All | SL.glmnet_All | SL.knn_All | SL.nnet_All | SL.randomForest_All | \n",
       "|---|---|---|---|---|\n",
       "| 1 | 0.0000000   | 0.00000000  | 0.000000000 | 0.6579005   | 0.07731546  | 0.2647841   | \n",
       "| 2 | 0.1967231   | 0.00000000  | 0.004739998 | 0.1755384   | 0.03938415  | 0.5836144   | \n",
       "| 3 | 0.0000000   | 0.00000000  | 0.000000000 | 0.6580631   | 0.00000000  | 0.3419369   | \n",
       "| 4 | 0.0000000   | 0.00000000  | 0.000000000 | 0.6719637   | 0.05121414  | 0.2768221   | \n",
       "| 5 | 0.3582016   | 0.00659032  | 0.000000000 | 0.5168597   | 0.00000000  | 0.1183484   | \n",
       "\n",
       "\n"
      ],
      "text/plain": [
       "  SL.gbm_All SL.glm_All SL.glmnet_All SL.knn_All SL.nnet_All\n",
       "1 0.0000000  0.00000000 0.000000000   0.6579005  0.07731546 \n",
       "2 0.1967231  0.00000000 0.004739998   0.1755384  0.03938415 \n",
       "3 0.0000000  0.00000000 0.000000000   0.6580631  0.00000000 \n",
       "4 0.0000000  0.00000000 0.000000000   0.6719637  0.05121414 \n",
       "5 0.3582016  0.00659032 0.000000000   0.5168597  0.00000000 \n",
       "  SL.randomForest_All\n",
       "1 0.2647841          \n",
       "2 0.5836144          \n",
       "3 0.3419369          \n",
       "4 0.2768221          \n",
       "5 0.1183484          "
      ]
     },
     "metadata": {},
     "output_type": "display_data"
    }
   ],
   "source": [
    "cv_SL_fit$coef"
   ]
  },
  {
   "cell_type": "code",
   "execution_count": 12,
   "metadata": {
    "collapsed": false
   },
   "outputs": [
    {
     "data": {},
     "metadata": {},
     "output_type": "display_data"
    },
    {
     "data": {
      "image/png": "[encoded data removed]",
      "text/plain": [
       "plot without title"
      ]
     },
     "metadata": {},
     "output_type": "display_data"
    }
   ],
   "source": [
    "plot(cv_SL_fit)"
   ]
  },
  {
   "cell_type": "code",
   "execution_count": 14,
   "metadata": {
    "collapsed": false
   },
   "outputs": [],
   "source": [
    "fld = cv_SL_fit$fold\n",
    "predsY = cv_SL_fit$SL.predict\n",
    "\n",
    "n = length(predsY)\n",
    "fold = rep(NA, n)\n",
    "\n",
    "for(k in 1:V) {\n",
    "    ii = unlist(fld[k])\n",
    "    fold[ii] = k\n",
    "}\n",
    "\n",
    "ci_out = ci.cvAUC(predsY, Y, folds = fold)\n",
    "txt = paste(\"AUC = \", round(ci_out$cvAUC, 2),\", 95% CI = \", round(ci_out$ci[1], 2), \"-\", round(ci_out$ci[2], 2))"
   ]
  },
  {
   "cell_type": "markdown",
   "metadata": {},
   "source": [
    "## Evaluating Classification Results\n",
    "\n",
    "* The [Receiver Operating Characteristic curve](https://en.wikipedia.org/wiki/Receiver_operating_characteristic) is a standard way of evaluating the results of classification algorithms\n",
    "\n",
    "* Here, we use the `ROCR` package to visualize the results from the cross-validated Super Learner"
   ]
  },
  {
   "cell_type": "code",
   "execution_count": 15,
   "metadata": {
    "collapsed": false
   },
   "outputs": [
    {
     "data": {
      "image/png": "[encoded data removed]",
      "text/plain": [
       "Plot with title “Receiver Operating Characteristic (ROC) Curve”"
      ]
     },
     "metadata": {},
     "output_type": "display_data"
    }
   ],
   "source": [
    "library(ROCR)\n",
    "\n",
    "pred <- prediction(predsY, Y)\n",
    "perf <- performance(pred, \"sens\", \"spec\")\n",
    "plot(1 - slot(perf, \"x.values\")[[1]],\n",
    "     slot(perf, \"y.values\")[[1]],\n",
    "     type = \"s\",\n",
    "     xlab = \"1-Specificity\",\n",
    "     ylab = \"Sensitivity\",\n",
    "     main = \"Receiver Operating Characteristic (ROC) Curve\")\n",
    "text(0.75, 0.1, txt)\n",
    "abline(0, 1)"
   ]
  }
 ],
 "metadata": {
  "kernelspec": {
   "display_name": "R",
   "language": "R",
   "name": "ir"
  },
  "language_info": {
   "codemirror_mode": "r",
   "file_extension": ".r",
   "mimetype": "text/x-r-source",
   "name": "R",
   "pygments_lexer": "r",
   "version": "3.3.2"
  }
 },
 "nbformat": 4,
 "nbformat_minor": 0
}
