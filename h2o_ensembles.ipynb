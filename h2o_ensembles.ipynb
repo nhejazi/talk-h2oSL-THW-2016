{
 "cells": [
  {
   "cell_type": "markdown",
   "metadata": {},
   "source": [
    "# _Ensemble (Machine) Learning with Super Learner and H2O in R_\n",
    "## Nima Hejazi and Evan Muzzall\n",
    "## [The Hacker Within](http://www.thehackerwithin.org/berkeley/), 6 December 2016"
   ]
  },
  {
   "cell_type": "code",
   "execution_count": 1,
   "metadata": {
    "collapsed": true
   },
   "outputs": [],
   "source": [
    "# preliminaries\n",
    "library(mlbench)\n",
    "data(BreastCancer)\n",
    "data(BostonHousing)\n",
    "data(PimaIndiansDiabetes)"
   ]
  },
  {
   "cell_type": "markdown",
   "metadata": {},
   "source": [
    "## `h2oEnsemble` and H2O Flow\n",
    "\n",
    "* ...\n",
    "* __R packages:__ `h2o`, `h2oEnsemble`\n",
    "* Guide: [\"Machine Learning with R and H2O\"](http://docs.h2o.ai/h2o/latest-stable/h2o-docs/booklets/RBooklet.pdf)\n",
    "* [H2O Flow for interactive web-based computing](https://github.com/h2oai/h2o-flow)\n",
    "* Also available as [Python module `h2o`](http://docs.h2o.ai/h2o/latest-stable/h2o-py/docs/intro.html#what-is-h2o)"
   ]
  },
  {
   "cell_type": "code",
   "execution_count": 2,
   "metadata": {
    "collapsed": true
   },
   "outputs": [],
   "source": [
    "suppressMessages(library(h2oEnsemble))"
   ]
  }
 ],
 "metadata": {
  "kernelspec": {
   "display_name": "R",
   "language": "R",
   "name": "ir"
  },
  "language_info": {
   "codemirror_mode": "r",
   "file_extension": ".r",
   "mimetype": "text/x-r-source",
   "name": "R",
   "pygments_lexer": "r",
   "version": "3.3.2"
  }
 },
 "nbformat": 4,
 "nbformat_minor": 0
}
