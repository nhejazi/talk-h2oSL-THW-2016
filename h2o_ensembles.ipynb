{
 "cells": [
  {
   "cell_type": "markdown",
   "metadata": {},
   "source": [
    "# _Ensemble Learning with Super Learner and H2O in R_\n",
    "## Nima Hejazi and Evan Muzzall\n",
    "## [The Hacker Within](http://www.thehackerwithin.org/berkeley/), 6 December 2016"
   ]
  },
  {
   "cell_type": "code",
   "execution_count": 3,
   "metadata": {
    "collapsed": false
   },
   "outputs": [
    {
     "data": {
      "text/html": [
       "<table>\n",
       "<thead><tr><th scope=col>Id</th><th scope=col>Cl.thickness</th><th scope=col>Cell.size</th><th scope=col>Cell.shape</th><th scope=col>Marg.adhesion</th><th scope=col>Epith.c.size</th><th scope=col>Bare.nuclei</th><th scope=col>Bl.cromatin</th><th scope=col>Normal.nucleoli</th><th scope=col>Mitoses</th><th scope=col>Class</th></tr></thead>\n",
       "<tbody>\n",
       "\t<tr><td>1000025  </td><td>5        </td><td>1        </td><td>1        </td><td>1        </td><td>2        </td><td>1        </td><td>3        </td><td>1        </td><td>1        </td><td>benign   </td></tr>\n",
       "\t<tr><td>1002945  </td><td>5        </td><td>4        </td><td>4        </td><td>5        </td><td>7        </td><td>10       </td><td>3        </td><td>2        </td><td>1        </td><td>benign   </td></tr>\n",
       "\t<tr><td>1015425  </td><td>3        </td><td>1        </td><td>1        </td><td>1        </td><td>2        </td><td>2        </td><td>3        </td><td>1        </td><td>1        </td><td>benign   </td></tr>\n",
       "\t<tr><td>1016277  </td><td>6        </td><td>8        </td><td>8        </td><td>1        </td><td>3        </td><td>4        </td><td>3        </td><td>7        </td><td>1        </td><td>benign   </td></tr>\n",
       "\t<tr><td>1017023  </td><td>4        </td><td>1        </td><td>1        </td><td>3        </td><td>2        </td><td>1        </td><td>3        </td><td>1        </td><td>1        </td><td>benign   </td></tr>\n",
       "\t<tr><td>1017122  </td><td>8        </td><td>10       </td><td>10       </td><td>8        </td><td>7        </td><td>10       </td><td>9        </td><td>7        </td><td>1        </td><td>malignant</td></tr>\n",
       "</tbody>\n",
       "</table>\n"
      ],
      "text/latex": [
       "\\begin{tabular}{r|lllllllllll}\n",
       " Id & Cl.thickness & Cell.size & Cell.shape & Marg.adhesion & Epith.c.size & Bare.nuclei & Bl.cromatin & Normal.nucleoli & Mitoses & Class\\\\\n",
       "\\hline\n",
       "\t 1000025   & 5         & 1         & 1         & 1         & 2         & 1         & 3         & 1         & 1         & benign   \\\\\n",
       "\t 1002945   & 5         & 4         & 4         & 5         & 7         & 10        & 3         & 2         & 1         & benign   \\\\\n",
       "\t 1015425   & 3         & 1         & 1         & 1         & 2         & 2         & 3         & 1         & 1         & benign   \\\\\n",
       "\t 1016277   & 6         & 8         & 8         & 1         & 3         & 4         & 3         & 7         & 1         & benign   \\\\\n",
       "\t 1017023   & 4         & 1         & 1         & 3         & 2         & 1         & 3         & 1         & 1         & benign   \\\\\n",
       "\t 1017122   & 8         & 10        & 10        & 8         & 7         & 10        & 9         & 7         & 1         & malignant\\\\\n",
       "\\end{tabular}\n"
      ],
      "text/plain": [
       "  Id      Cl.thickness Cell.size Cell.shape Marg.adhesion Epith.c.size\n",
       "1 1000025 5            1         1          1             2           \n",
       "2 1002945 5            4         4          5             7           \n",
       "3 1015425 3            1         1          1             2           \n",
       "4 1016277 6            8         8          1             3           \n",
       "5 1017023 4            1         1          3             2           \n",
       "6 1017122 8            10        10         8             7           \n",
       "  Bare.nuclei Bl.cromatin Normal.nucleoli Mitoses Class    \n",
       "1 1           3           1               1       benign   \n",
       "2 10          3           2               1       benign   \n",
       "3 2           3           1               1       benign   \n",
       "4 4           3           7               1       benign   \n",
       "5 1           3           1               1       benign   \n",
       "6 10          9           7               1       malignant"
      ]
     },
     "metadata": {},
     "output_type": "display_data"
    }
   ],
   "source": [
    "# preliminaries\n",
    "library(mlbench)\n",
    "data(BreastCancer)\n",
    "head(BreastCancer)"
   ]
  },
  {
   "cell_type": "markdown",
   "metadata": {},
   "source": [
    "## `h2oEnsemble` and H2O Flow\n",
    "\n",
    "* __R packages:__ `h2o`, `h2oEnsemble`\n",
    "* Guide: [\"Machine Learning with R and H2O\"](http://docs.h2o.ai/h2o/latest-stable/h2o-docs/booklets/RBooklet.pdf)\n",
    "* [H2O Flow for interactive web-based computing](https://github.com/h2oai/h2o-flow)\n",
    "* Also available as [Python module `h2o`](http://docs.h2o.ai/h2o/latest-stable/h2o-py/docs/intro.html#what-is-h2o)"
   ]
  },
  {
   "cell_type": "code",
   "execution_count": 1,
   "metadata": {
    "collapsed": false
   },
   "outputs": [
    {
     "name": "stderr",
     "output_type": "stream",
     "text": [
      "Loading required package: h2o\n",
      "Loading required package: statmod\n",
      "\n",
      "----------------------------------------------------------------------\n",
      "\n",
      "Your next step is to start H2O:\n",
      "    > h2o.init()\n",
      "\n",
      "For H2O package documentation, ask for help:\n",
      "    > ??h2o\n",
      "\n",
      "After starting H2O, you can use the Web UI at http://localhost:54321\n",
      "For more information visit http://docs.h2o.ai\n",
      "\n",
      "----------------------------------------------------------------------\n",
      "\n",
      "\n",
      "Attaching package: ‘h2o’\n",
      "\n",
      "The following objects are masked from ‘package:stats’:\n",
      "\n",
      "    cor, sd, var\n",
      "\n",
      "The following objects are masked from ‘package:data.table’:\n",
      "\n",
      "    hour, month, week, year\n",
      "\n",
      "The following objects are masked from ‘package:base’:\n",
      "\n",
      "    &&, %*%, %in%, ||, apply, as.factor, as.numeric, colnames,\n",
      "    colnames<-, ifelse, is.character, is.factor, is.numeric, log,\n",
      "    log10, log1p, log2, round, signif, trunc\n",
      "\n",
      "h2oEnsemble (beta) for H2O >=3.0\n",
      "Version: 0.1.8\n",
      "Package created on 2016-03-29\n",
      "\n"
     ]
    }
   ],
   "source": [
    "library(h2oEnsemble)"
   ]
  }
 ],
 "metadata": {
  "kernelspec": {
   "display_name": "R",
   "language": "R",
   "name": "ir"
  },
  "language_info": {
   "codemirror_mode": "r",
   "file_extension": ".r",
   "mimetype": "text/x-r-source",
   "name": "R",
   "pygments_lexer": "r",
   "version": "3.3.2"
  }
 },
 "nbformat": 4,
 "nbformat_minor": 0
}
